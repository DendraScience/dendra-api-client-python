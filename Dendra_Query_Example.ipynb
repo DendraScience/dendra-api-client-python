{
 "cells": [
  {
   "cell_type": "markdown",
   "metadata": {},
   "source": [
    "### Dendra Query Examples\n",
    "Author: Collin Bode   \n",
    "Email: collin@berkeley.edu   \n",
    "Created: 2019-10-23    \n",
    "Modified: 2019-10-28  significant changes to dendra_api_client.py required modifications to work with it.   \n",
    "Modified: 2020-03-27  Collin: updated code to work with next iteration of dendra_api_client.py.    \n",
    "Modified: 2020-09-22  Collin: changed code to download wells specifically. \n",
    "Modified: 2020-11-24  Collin: reverted to generic one station download.\n",
    "\n",
    "<u>Purpose</u>: Example code to pull all datastreams from one station.         \n",
    "<u>Requires</u>: dendra_api_client.py file defined in python path. Please download from:       \n",
    "https://github.com/DendraScience/dendra-api-client-python    \n",
    "\n",
    "Please note the following functions:   \n",
    "\n",
    ">df = <b>dendra.get_datapoints</b>(<em>datastream_id,begins_at,ends_before=time_format(),time_type='local',name='default’</em>):   returns one datastream as dataframe.\n",
    "\n",
    ">df = <b>dendra.get_datapoints_from_id_list</b>(<em>datastream_id_list,begins_at,ends_before=time_format(),time_type='local’</em>):  returns one dataframe of all datastreams.  Input is an array of datastream_ids, e.g.  Permittivity_Avg = [\"5d488fe302e4cd88409c2bde\", \"5d488fda02e4cd135e9c2bc0\",“5d488fda02e4cd5ecf9c2bc2\"]   \n",
    "\n",
    ">df = <b>dendra.list_datastreams_by_measurement</b>(<em>measurement,optional:aggregate,station_id,orgslug</em>): returns a list of datastream names and ids for all datastreams that fit your query. This list can then be used in get_datapoints_from_id_list.   \n",
    "\n",
    "<u>Arguments</u> common to all three functions: \n",
    "\n",
    "<i>datastream_id</i> and <i>station_id</i>:  these are Mongo database ID’s.  They must be in quotes to be processed. 5d488fe302e4cd88409c2bde throws an error. \"5d488fe302e4cd88409c2bde\" works.   \n",
    "\n",
    "<i>begins_at</i> is an ISO compliant timestamp. ’T’ is placed between date and time.  Time is hours:minutes:seconds in two digits, e.g. '2020-02-20T00:00:00’.   The first timestamp is included in the query (>=).   \n",
    "\n",
    "<i>ends_before</i> is optional.  It will default to today if left empty. ends_before is NOT included in the query (<).    \n",
    "\n",
    "<i>time_type</i> is optional.  It will default to ‘local’ if left empty.  This mean Pacific Standard Time (UTC-8hours).  The only other option is ‘utc’ which requires your input time parameters be in UTC.   "
   ]
  },
  {
   "cell_type": "code",
   "execution_count": null,
   "metadata": {},
   "outputs": [],
   "source": [
    "%matplotlib inline\n",
    "import pandas as pd\n",
    "import json\n",
    "import os\n",
    "import sys\n",
    "path_to_git = '../../dendra-api-client-python/'  # <-- Please change this to match the location you have pulled github\n",
    "sys.path.append(path_to_git)\n",
    "import dendra_api_client as dendra"
   ]
  },
  {
   "cell_type": "markdown",
   "metadata": {},
   "source": [
    "### Parameters: start and end dates"
   ]
  },
  {
   "cell_type": "code",
   "execution_count": null,
   "metadata": {},
   "outputs": [],
   "source": [
    "# parameters: start and end time\n",
    "begins_at = '2019-10-01T00:00:00' \n",
    "ends_before = dendra.time_format() # time_format without argument gives current datetime. #'2020-03-01T00:00:00'"
   ]
  },
  {
   "cell_type": "markdown",
   "metadata": {},
   "source": [
    "### List stations for the UC Natural Reserve System (not required)"
   ]
  },
  {
   "cell_type": "code",
   "execution_count": null,
   "metadata": {
    "scrolled": true
   },
   "outputs": [],
   "source": [
    "# Output is a JSON list with id, name, and web slug\n",
    "# easiest to query stations by id\n",
    "print('UCNRS Weather Station List')\n",
    "stations = dendra.list_stations('ucnrs')\n",
    "for station in stations:\n",
    "    print(station)"
   ]
  },
  {
   "cell_type": "markdown",
   "metadata": {},
   "source": [
    "## Download all datastreams for one weather station"
   ]
  },
  {
   "cell_type": "code",
   "execution_count": null,
   "metadata": {},
   "outputs": [],
   "source": [
    "station_id = '58e68cacdf5ce600012602d9'  # 'Stunt Ranch'\n",
    "# def get_datapoints_from_station_id(station_id,begins_at,ends_before=time_format(),time_type='local'):\n",
    "# Returns a dataframe with ALL datastreams associated with a particular station for the time period \n",
    "df = dendra.get_datapoints_from_station_id(station_id,begins_at,ends_before)"
   ]
  },
  {
   "cell_type": "code",
   "execution_count": null,
   "metadata": {},
   "outputs": [],
   "source": [
    "# Take a look at the dataframe\n",
    "df"
   ]
  },
  {
   "cell_type": "code",
   "execution_count": null,
   "metadata": {},
   "outputs": [],
   "source": [
    "df.to_csv('stuntranch_export_wy2019.csv')  # export to disk"
   ]
  },
  {
   "cell_type": "markdown",
   "metadata": {},
   "source": [
    "## List Datastreams by Measurement\n",
    "Optional.  If you wish to pull only one kind of measurement, say 'RainfallCumulative' from many locations, you can list all datastreams which perform that measurement. To see what measurements exist, check our vocabulary under 'DQ' or Dendra Queries:  https://dendra.science/vocabulary    "
   ]
  },
  {
   "cell_type": "code",
   "execution_count": null,
   "metadata": {},
   "outputs": [],
   "source": [
    "measurement = 'RainfallCumulative'  \n",
    "query_refinement = { 'is_hidden': False } \n",
    "measurement_list = []   # list of only datastreams that you wish to download data from\n",
    "ds_list = dendra.list_datastreams_by_measurement(measurement,'',[],'ucnrs',query_refinement)\n",
    "for ds in ds_list:\n",
    "    dsm = dendra.get_meta_datastream_by_id(ds['_id'])  # This will pull full datastream metadata in JSON format\n",
    "    station_name = dsm['station_lookup']['name']\n",
    "    print(station_name,ds['name'],ds['_id'])\n",
    "    measurement_list.append(ds['_id'])\n",
    "    "
   ]
  },
  {
   "cell_type": "markdown",
   "metadata": {},
   "source": [
    "### Pull data for RainfallCumulative\n",
    "The list of datastreams will be fed to 'get_datapoints' which will pull all data for the date range given earlier.   "
   ]
  },
  {
   "cell_type": "code",
   "execution_count": null,
   "metadata": {},
   "outputs": [],
   "source": [
    "# See parameters above for date ranges\n",
    "df = dendra.get_datapoints_from_id_list(measurement_list,begins_at,ends_before)"
   ]
  },
  {
   "cell_type": "code",
   "execution_count": null,
   "metadata": {},
   "outputs": [],
   "source": [
    "# check columns\n",
    "for col in df.columns:\n",
    "    print(col)"
   ]
  },
  {
   "cell_type": "code",
   "execution_count": null,
   "metadata": {},
   "outputs": [],
   "source": [
    "# Take a look at the full DataFrame\n",
    "df"
   ]
  },
  {
   "cell_type": "code",
   "execution_count": null,
   "metadata": {},
   "outputs": [],
   "source": [
    "df.to_csv('rainfallcumulative_measurement_export_wy2019.csv')  # export to disk"
   ]
  }
 ],
 "metadata": {
  "kernelspec": {
   "display_name": "Python 3",
   "language": "python",
   "name": "python3"
  },
  "language_info": {
   "codemirror_mode": {
    "name": "ipython",
    "version": 3
   },
   "file_extension": ".py",
   "mimetype": "text/x-python",
   "name": "python",
   "nbconvert_exporter": "python",
   "pygments_lexer": "ipython3",
   "version": "3.7.7"
  }
 },
 "nbformat": 4,
 "nbformat_minor": 2
}
